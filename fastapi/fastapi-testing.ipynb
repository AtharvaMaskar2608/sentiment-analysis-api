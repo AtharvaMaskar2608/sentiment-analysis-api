{
 "cells": [
  {
   "cell_type": "code",
   "execution_count": 1,
   "metadata": {},
   "outputs": [],
   "source": [
    "generate_transcript_endpoint = \"http://127.0.0.1:5000/generate-transcript\"\n",
    "analysis_from_transcript_endpoint = \"http://127.0.0.1:5000/get-analysis-from-transcript\"\n",
    "audio_sentiment_analysis_endpoint = \"http://127.0.0.1:5000/audio-sentiment-analysis\"\n",
    "AUDIO_FILE_PATH = \"/home/choice/Desktop/sentiment-analysis-api/data/1c64d149-313a-4d26-aff5-41ddccf34b9e.mp3\""
   ]
  },
  {
   "cell_type": "code",
   "execution_count": 2,
   "metadata": {},
   "outputs": [
    {
     "name": "stdout",
     "output_type": "stream",
     "text": [
      "{'message': 'Transcript generation started successfully, Process will run in the backgroud. Should reflect in the database shortly.'}\n"
     ]
    }
   ],
   "source": [
    "import requests\n",
    "\n",
    "AUDIO_FILE_PATH = \"/home/choice/Desktop/sentiment-analysis-api/data/1c64d149-313a-4d26-aff5-41ddccf34b9e.mp3\"\n",
    "generate_transcript_endpoint = \"http://localhost:8000/generate-transcript/\"\n",
    "\n",
    "with open(AUDIO_FILE_PATH, \"rb\") as audio_file:\n",
    "    # Prepare the files dictionary\n",
    "    files = {\n",
    "        'file': (AUDIO_FILE_PATH, audio_file, 'audio/mp3')\n",
    "    }\n",
    "    # Send the POST request\n",
    "    response = requests.post(generate_transcript_endpoint, files=files)\n",
    "\n",
    "    # Print the JSON response from the FastAPI endpoint\n",
    "    print(response.json())\n"
   ]
  },
  {
   "cell_type": "code",
   "execution_count": 7,
   "metadata": {},
   "outputs": [
    {
     "name": "stdout",
     "output_type": "stream",
     "text": [
      "{'message': 'Sentiment analysis started successfully'}\n"
     ]
    }
   ],
   "source": [
    "import requests\n",
    "\n",
    "AUDIO_FILE_PATH = \"/home/choice/Desktop/sentiment-analysis-api/data/1c64d149-313a-4d26-aff5-41ddccf34b9e.mp3\"\n",
    "get_audio_sentiment_analsysis = \"http://localhost:8000/audio-sentiment-analysis/\"\n",
    "\n",
    "with open(AUDIO_FILE_PATH, \"rb\") as audio_file:\n",
    "    # Prepare the files dictionary\n",
    "    files = {\n",
    "        'file': (AUDIO_FILE_PATH, audio_file, 'audio/mp3')\n",
    "    }\n",
    "    # Send the POST request\n",
    "    response = requests.post(get_audio_sentiment_analsysis, files=files)\n",
    "\n",
    "    # Print the JSON response from the FastAPI endpoint\n",
    "    print(response.json())\n"
   ]
  },
  {
   "cell_type": "code",
   "execution_count": 13,
   "metadata": {},
   "outputs": [
    {
     "name": "stdout",
     "output_type": "stream",
     "text": [
      "Response: {'message': 'Transcript generation started successfully, Process will run in the backgroud. Should reflect in the database shortly.'}\n"
     ]
    }
   ],
   "source": [
    "analysis_from_transcript_endpoint = \"http://localhost:8000/get-analysis-from-transcript/\"\n",
    "\n",
    "transcript = \"Hello, can I help you? Hello, can I help you? Yes, tell me. I called you on the last day of the customer tax report. I sent and called you many times for the purchase rate. You said you didn't get anything. Is it taking this long? The client already sent the statement yesterday. The client already sent the statement yesterday. What time did you send it yesterday? I sent it yesterday morning. I sent it around 10 in the morning. You sent it around 10 in the morning. It has a purchase rate, right? Yes. Okay, okay\"\n",
    "\n",
    "data = {\n",
    "    \"transcript\": str(transcript)\n",
    "}\n",
    "\n",
    "response = requests.post(analysis_from_transcript_endpoint, json=data)\n",
    "\n",
    "if response.status_code == 201:\n",
    "    print('Response:', response.json())\n",
    "else:\n",
    "    print('Failed to get a valid response:', response.status_code)"
   ]
  }
 ],
 "metadata": {
  "kernelspec": {
   "display_name": "Python 3",
   "language": "python",
   "name": "python3"
  },
  "language_info": {
   "codemirror_mode": {
    "name": "ipython",
    "version": 3
   },
   "file_extension": ".py",
   "mimetype": "text/x-python",
   "name": "python",
   "nbconvert_exporter": "python",
   "pygments_lexer": "ipython3",
   "version": "3.10.12"
  }
 },
 "nbformat": 4,
 "nbformat_minor": 2
}
